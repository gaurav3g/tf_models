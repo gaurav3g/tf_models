{
  "nbformat": 4,
  "nbformat_minor": 0,
  "metadata": {
    "colab": {
      "name": "StockPredict2.ipynb",
      "provenance": [],
      "collapsed_sections": [],
      "authorship_tag": "ABX9TyO9Ssbg2pVb0WGKp/ZmUfuN",
      "include_colab_link": true
    },
    "kernelspec": {
      "name": "python3",
      "display_name": "Python 3"
    },
    "language_info": {
      "name": "python"
    }
  },
  "cells": [
    {
      "cell_type": "markdown",
      "metadata": {
        "id": "view-in-github",
        "colab_type": "text"
      },
      "source": [
        "<a href=\"https://colab.research.google.com/github/gaurav3g/tf_models/blob/main/StockPredict2.ipynb\" target=\"_parent\"><img src=\"https://colab.research.google.com/assets/colab-badge.svg\" alt=\"Open In Colab\"/></a>"
      ]
    },
    {
      "cell_type": "code",
      "metadata": {
        "colab": {
          "resources": {
            "http://localhost:8080/nbextensions/google.colab/files.js": {
              "data": "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",
              "ok": true,
              "headers": [
                [
                  "content-type",
                  "application/javascript"
                ]
              ],
              "status": 200,
              "status_text": ""
            }
          },
          "base_uri": "https://localhost:8080/",
          "height": 72
        },
        "id": "Ag-f5HK7_m4E",
        "outputId": "7b81fbf5-ecc4-472f-e4f2-d207cd2a95ad"
      },
      "source": [
        "from google.colab import files\n",
        "uploaded = files.upload()"
      ],
      "execution_count": null,
      "outputs": [
        {
          "output_type": "display_data",
          "data": {
            "text/html": [
              "\n",
              "     <input type=\"file\" id=\"files-b68ff533-893c-46c8-9ab4-d02247b37d24\" name=\"files[]\" multiple disabled\n",
              "        style=\"border:none\" />\n",
              "     <output id=\"result-b68ff533-893c-46c8-9ab4-d02247b37d24\">\n",
              "      Upload widget is only available when the cell has been executed in the\n",
              "      current browser session. Please rerun this cell to enable.\n",
              "      </output>\n",
              "      <script src=\"/nbextensions/google.colab/files.js\"></script> "
            ],
            "text/plain": [
              "<IPython.core.display.HTML object>"
            ]
          },
          "metadata": {
            "tags": []
          }
        },
        {
          "output_type": "stream",
          "text": [
            "Saving INFY_data.csv to INFY_data.csv\n"
          ],
          "name": "stdout"
        }
      ]
    },
    {
      "cell_type": "code",
      "metadata": {
        "id": "23eEUfyO_s3A"
      },
      "source": [
        "import pandas as pd\n",
        "import numpy as np\n",
        "import matplotlib.pyplot as plt\n",
        "\n",
        "plt.style.use(style='seaborn')\n",
        "%matplotlib inline"
      ],
      "execution_count": null,
      "outputs": []
    },
    {
      "cell_type": "code",
      "metadata": {
        "colab": {
          "base_uri": "https://localhost:8080/"
        },
        "id": "s427kTJwA18m",
        "outputId": "6de0e181-61ab-43f3-f0d7-1f8f9f4f8e2c"
      },
      "source": [
        "new_column_names = ['series', 'open', 'high', 'low', 'prev close', 'ltp', 'close', 'vwap', '52w h', '52w l', 'vol', 'value','no of trades'];\n",
        "convert_dict = {\n",
        "    'series': str,\n",
        "    'open': float,\n",
        "    'high': float,\n",
        "    'low': float,\n",
        "    'prev close': float,\n",
        "    'ltp': float,\n",
        "    'close': float,\n",
        "    'vwap': float,\n",
        "    '52w h': float,\n",
        "    '52w l': float,\n",
        "    'vol': int,\n",
        "    'value': float,\n",
        "    'no of trades': int,\n",
        "}\n",
        "  \n",
        "bse = pd.read_csv('INFY_data.csv', index_col='Date ', usecols=['Date ', 'close ', 'VOLUME '])\n",
        "bse.info()\n",
        "bse.columns = ['close', 'vol']\n",
        "bse[['close', 'vol']] = bse[['close', 'vol']].replace(',','', regex=True)\n",
        "bse = bse.astype({\n",
        "    'close': float,\n",
        "    'vol': int,\n",
        "})\n",
        "bse.index = pd.to_datetime(bse.index)\n",
        "bse = bse.sort_index()"
      ],
      "execution_count": 39,
      "outputs": [
        {
          "output_type": "stream",
          "text": [
            "<class 'pandas.core.frame.DataFrame'>\n",
            "Index: 5982 entries, 07-May-2021 to 09-May-1997\n",
            "Data columns (total 2 columns):\n",
            " #   Column   Non-Null Count  Dtype \n",
            "---  ------   --------------  ----- \n",
            " 0   close    5982 non-null   object\n",
            " 1   VOLUME   5982 non-null   int64 \n",
            "dtypes: int64(1), object(1)\n",
            "memory usage: 140.2+ KB\n"
          ],
          "name": "stdout"
        }
      ]
    },
    {
      "cell_type": "code",
      "metadata": {
        "colab": {
          "base_uri": "https://localhost:8080/",
          "height": 297
        },
        "id": "daN0JaVdBCoY",
        "outputId": "2a34c50f-8b98-4a42-9fdc-c045efa51749"
      },
      "source": [
        "# bse = bse[['close'],]\n",
        "bse.describe()"
      ],
      "execution_count": null,
      "outputs": [
        {
          "output_type": "execute_result",
          "data": {
            "text/html": [
              "<div>\n",
              "<style scoped>\n",
              "    .dataframe tbody tr th:only-of-type {\n",
              "        vertical-align: middle;\n",
              "    }\n",
              "\n",
              "    .dataframe tbody tr th {\n",
              "        vertical-align: top;\n",
              "    }\n",
              "\n",
              "    .dataframe thead th {\n",
              "        text-align: right;\n",
              "    }\n",
              "</style>\n",
              "<table border=\"1\" class=\"dataframe\">\n",
              "  <thead>\n",
              "    <tr style=\"text-align: right;\">\n",
              "      <th></th>\n",
              "      <th>close</th>\n",
              "      <th>vol</th>\n",
              "    </tr>\n",
              "  </thead>\n",
              "  <tbody>\n",
              "    <tr>\n",
              "      <th>count</th>\n",
              "      <td>5982.000000</td>\n",
              "      <td>5.982000e+03</td>\n",
              "    </tr>\n",
              "    <tr>\n",
              "      <th>mean</th>\n",
              "      <td>2693.881879</td>\n",
              "      <td>2.340822e+06</td>\n",
              "    </tr>\n",
              "    <tr>\n",
              "      <th>std</th>\n",
              "      <td>1913.872404</td>\n",
              "      <td>4.039966e+06</td>\n",
              "    </tr>\n",
              "    <tr>\n",
              "      <th>min</th>\n",
              "      <td>558.000000</td>\n",
              "      <td>6.000000e+02</td>\n",
              "    </tr>\n",
              "    <tr>\n",
              "      <th>25%</th>\n",
              "      <td>1308.625000</td>\n",
              "      <td>5.761642e+05</td>\n",
              "    </tr>\n",
              "    <tr>\n",
              "      <th>50%</th>\n",
              "      <td>2330.450000</td>\n",
              "      <td>1.058302e+06</td>\n",
              "    </tr>\n",
              "    <tr>\n",
              "      <th>75%</th>\n",
              "      <td>3235.000000</td>\n",
              "      <td>2.422535e+06</td>\n",
              "    </tr>\n",
              "    <tr>\n",
              "      <th>max</th>\n",
              "      <td>16875.250000</td>\n",
              "      <td>9.043339e+07</td>\n",
              "    </tr>\n",
              "  </tbody>\n",
              "</table>\n",
              "</div>"
            ],
            "text/plain": [
              "              close           vol\n",
              "count   5982.000000  5.982000e+03\n",
              "mean    2693.881879  2.340822e+06\n",
              "std     1913.872404  4.039966e+06\n",
              "min      558.000000  6.000000e+02\n",
              "25%     1308.625000  5.761642e+05\n",
              "50%     2330.450000  1.058302e+06\n",
              "75%     3235.000000  2.422535e+06\n",
              "max    16875.250000  9.043339e+07"
            ]
          },
          "metadata": {
            "tags": []
          },
          "execution_count": 5
        }
      ]
    },
    {
      "cell_type": "code",
      "metadata": {
        "colab": {
          "base_uri": "https://localhost:8080/",
          "height": 374
        },
        "id": "U0goE3OVBQ6p",
        "outputId": "34d11bdb-b40d-4cf7-ff5f-a56ba0aac156"
      },
      "source": [
        "plt.figure(1, figsize=(16, 6))\n",
        "_ = plt.plot(bse.close)"
      ],
      "execution_count": null,
      "outputs": [
        {
          "output_type": "display_data",
          "data": {
            "image/png": "[encoded data removed]",
            "text/plain": [
              "<Figure size 1152x432 with 1 Axes>"
            ]
          },
          "metadata": {
            "tags": [],
            "needs_background": "light"
          }
        }
      ]
    },
    {
      "cell_type": "code",
      "metadata": {
        "id": "BJ_6jnC1BjKB",
        "colab": {
          "base_uri": "https://localhost:8080/",
          "height": 390
        },
        "outputId": "afbc355a-5536-48ff-ea29-982072cac8c4"
      },
      "source": [
        "bse['returns'] = bse.close.pct_change()\n",
        "bse['log_returns'] = np.log( 1 + bse.returns)\n",
        "# bse['is_expiry'] = (bse.index.dayofweek >= 3).astype(int)\n",
        "bse.head(10)"
      ],
      "execution_count": 46,
      "outputs": [
        {
          "output_type": "execute_result",
          "data": {
            "text/html": [
              "<div>\n",
              "<style scoped>\n",
              "    .dataframe tbody tr th:only-of-type {\n",
              "        vertical-align: middle;\n",
              "    }\n",
              "\n",
              "    .dataframe tbody tr th {\n",
              "        vertical-align: top;\n",
              "    }\n",
              "\n",
              "    .dataframe thead th {\n",
              "        text-align: right;\n",
              "    }\n",
              "</style>\n",
              "<table border=\"1\" class=\"dataframe\">\n",
              "  <thead>\n",
              "    <tr style=\"text-align: right;\">\n",
              "      <th></th>\n",
              "      <th>close</th>\n",
              "      <th>vol</th>\n",
              "      <th>returns</th>\n",
              "      <th>log_returns</th>\n",
              "    </tr>\n",
              "    <tr>\n",
              "      <th>Date</th>\n",
              "      <th></th>\n",
              "      <th></th>\n",
              "      <th></th>\n",
              "      <th></th>\n",
              "    </tr>\n",
              "  </thead>\n",
              "  <tbody>\n",
              "    <tr>\n",
              "      <th>1997-05-09</th>\n",
              "      <td>1466.00</td>\n",
              "      <td>14500</td>\n",
              "      <td>NaN</td>\n",
              "      <td>NaN</td>\n",
              "    </tr>\n",
              "    <tr>\n",
              "      <th>1997-05-12</th>\n",
              "      <td>1445.50</td>\n",
              "      <td>11200</td>\n",
              "      <td>-0.013984</td>\n",
              "      <td>-0.014082</td>\n",
              "    </tr>\n",
              "    <tr>\n",
              "      <th>1997-05-13</th>\n",
              "      <td>1453.05</td>\n",
              "      <td>5300</td>\n",
              "      <td>0.005223</td>\n",
              "      <td>0.005210</td>\n",
              "    </tr>\n",
              "    <tr>\n",
              "      <th>1997-05-14</th>\n",
              "      <td>1450.35</td>\n",
              "      <td>7700</td>\n",
              "      <td>-0.001858</td>\n",
              "      <td>-0.001860</td>\n",
              "    </tr>\n",
              "    <tr>\n",
              "      <th>1997-05-15</th>\n",
              "      <td>1439.35</td>\n",
              "      <td>3600</td>\n",
              "      <td>-0.007584</td>\n",
              "      <td>-0.007613</td>\n",
              "    </tr>\n",
              "    <tr>\n",
              "      <th>1997-05-16</th>\n",
              "      <td>1438.05</td>\n",
              "      <td>5400</td>\n",
              "      <td>-0.000903</td>\n",
              "      <td>-0.000904</td>\n",
              "    </tr>\n",
              "    <tr>\n",
              "      <th>1997-05-19</th>\n",
              "      <td>1448.05</td>\n",
              "      <td>6500</td>\n",
              "      <td>0.006954</td>\n",
              "      <td>0.006930</td>\n",
              "    </tr>\n",
              "    <tr>\n",
              "      <th>1997-05-20</th>\n",
              "      <td>1448.00</td>\n",
              "      <td>4200</td>\n",
              "      <td>-0.000035</td>\n",
              "      <td>-0.000035</td>\n",
              "    </tr>\n",
              "    <tr>\n",
              "      <th>1997-05-21</th>\n",
              "      <td>1441.60</td>\n",
              "      <td>5100</td>\n",
              "      <td>-0.004420</td>\n",
              "      <td>-0.004430</td>\n",
              "    </tr>\n",
              "    <tr>\n",
              "      <th>1997-05-22</th>\n",
              "      <td>1396.50</td>\n",
              "      <td>33100</td>\n",
              "      <td>-0.031285</td>\n",
              "      <td>-0.031785</td>\n",
              "    </tr>\n",
              "  </tbody>\n",
              "</table>\n",
              "</div>"
            ],
            "text/plain": [
              "              close    vol   returns  log_returns\n",
              "Date                                             \n",
              "1997-05-09  1466.00  14500       NaN          NaN\n",
              "1997-05-12  1445.50  11200 -0.013984    -0.014082\n",
              "1997-05-13  1453.05   5300  0.005223     0.005210\n",
              "1997-05-14  1450.35   7700 -0.001858    -0.001860\n",
              "1997-05-15  1439.35   3600 -0.007584    -0.007613\n",
              "1997-05-16  1438.05   5400 -0.000903    -0.000904\n",
              "1997-05-19  1448.05   6500  0.006954     0.006930\n",
              "1997-05-20  1448.00   4200 -0.000035    -0.000035\n",
              "1997-05-21  1441.60   5100 -0.004420    -0.004430\n",
              "1997-05-22  1396.50  33100 -0.031285    -0.031785"
            ]
          },
          "metadata": {
            "tags": []
          },
          "execution_count": 46
        }
      ]
    },
    {
      "cell_type": "code",
      "metadata": {
        "colab": {
          "base_uri": "https://localhost:8080/"
        },
        "id": "ZySG2Fw_CM5Y",
        "outputId": "f04270d3-6aef-41d4-cceb-70129955ac1e"
      },
      "source": [
        "bse.dropna(inplace=True)\n",
        "X = bse[['close', 'vol', 'log_returns']].values\n",
        "X"
      ],
      "execution_count": 47,
      "outputs": [
        {
          "output_type": "execute_result",
          "data": {
            "text/plain": [
              "array([[ 1.44550000e+03,  1.12000000e+04, -1.40823210e-02],\n",
              "       [ 1.45305000e+03,  5.30000000e+03,  5.20951308e-03],\n",
              "       [ 1.45035000e+03,  7.70000000e+03, -1.85988894e-03],\n",
              "       ...,\n",
              "       [ 1.34150000e+03,  3.93978800e+06,  9.06067826e-03],\n",
              "       [ 1.36160000e+03,  4.81009000e+06,  1.48720880e-02],\n",
              "       [ 1.35255000e+03,  4.99143500e+06, -6.66877921e-03]])"
            ]
          },
          "metadata": {
            "tags": []
          },
          "execution_count": 47
        }
      ]
    },
    {
      "cell_type": "code",
      "metadata": {
        "colab": {
          "base_uri": "https://localhost:8080/"
        },
        "id": "LBWjTVfOCd6b",
        "outputId": "e713b1b7-a3ee-46cc-db7b-c18e7ef3c004"
      },
      "source": [
        "from sklearn.preprocessing import MinMaxScaler\n",
        "\n",
        "scalar = MinMaxScaler(feature_range=(0, 1)).fit(X)\n",
        "x_scaled = scalar.transform(X)\n",
        "# print(x_scaled[:5])\n",
        "y = [x[0] for x in x_scaled]\n",
        "y[:5]"
      ],
      "execution_count": 48,
      "outputs": [
        {
          "output_type": "execute_result",
          "data": {
            "text/plain": [
              "[0.056281748619824906,\n",
              " 0.05674410344500273,\n",
              " 0.056578758010833174,\n",
              " 0.05590512846421648,\n",
              " 0.05582551769961633]"
            ]
          },
          "metadata": {
            "tags": []
          },
          "execution_count": 48
        }
      ]
    },
    {
      "cell_type": "markdown",
      "metadata": {
        "id": "-CYKeGDV3pnO"
      },
      "source": [
        "Train test split"
      ]
    },
    {
      "cell_type": "code",
      "metadata": {
        "id": "K5ovTzI53sVy"
      },
      "source": [
        "n=3\n",
        "split = int(np.ceil(len(x_scaled) * 0.85))\n",
        "\n",
        "x_train = x_scaled[:split]\n",
        "x_test = x_scaled[split-n:]\n",
        "y_train = y[:split]\n",
        "y_test = y[split-n:]\n"
      ],
      "execution_count": 49,
      "outputs": []
    },
    {
      "cell_type": "code",
      "metadata": {
        "id": "Y96Lh-nlwgHm"
      },
      "source": [
        "assert len(x_train) == len(y_train)\n",
        "assert len(x_test) == len(y_test)"
      ],
      "execution_count": null,
      "outputs": []
    },
    {
      "cell_type": "markdown",
      "metadata": {
        "id": "1XvXZHGj4Z2j"
      },
      "source": [
        "Labelling"
      ]
    },
    {
      "cell_type": "code",
      "metadata": {
        "id": "CewQAjIC4Xs2"
      },
      "source": [
        "Xtrain = [] \n",
        "Ytrain = [] \n",
        "Xtest = [] \n",
        "Ytest = []\n",
        "\n",
        "for i in range(n, len(x_train)):\n",
        "  Xtrain.append(x_train[i-n : i, : x_train.shape[1]])\n",
        "  Ytrain.append(y_train[i]) # predict next record\n",
        "\n",
        "for i in range(n, len(x_test)):\n",
        "  Xtest.append(x_test[i-n : i, : x_test.shape[1]])\n",
        "  Ytest.append(y_test[i]) # predict next record"
      ],
      "execution_count": 50,
      "outputs": []
    },
    {
      "cell_type": "code",
      "metadata": {
        "colab": {
          "base_uri": "https://localhost:8080/",
          "height": 235
        },
        "id": "o7WwQkuk50mS",
        "outputId": "67a83782-fa27-4273-e492-587ac9eb47df"
      },
      "source": [
        "bse.head()"
      ],
      "execution_count": null,
      "outputs": [
        {
          "output_type": "execute_result",
          "data": {
            "text/html": [
              "<div>\n",
              "<style scoped>\n",
              "    .dataframe tbody tr th:only-of-type {\n",
              "        vertical-align: middle;\n",
              "    }\n",
              "\n",
              "    .dataframe tbody tr th {\n",
              "        vertical-align: top;\n",
              "    }\n",
              "\n",
              "    .dataframe thead th {\n",
              "        text-align: right;\n",
              "    }\n",
              "</style>\n",
              "<table border=\"1\" class=\"dataframe\">\n",
              "  <thead>\n",
              "    <tr style=\"text-align: right;\">\n",
              "      <th></th>\n",
              "      <th>close</th>\n",
              "      <th>vol</th>\n",
              "      <th>returns</th>\n",
              "      <th>log_returns</th>\n",
              "      <th>is_expiry</th>\n",
              "    </tr>\n",
              "    <tr>\n",
              "      <th>Date</th>\n",
              "      <th></th>\n",
              "      <th></th>\n",
              "      <th></th>\n",
              "      <th></th>\n",
              "      <th></th>\n",
              "    </tr>\n",
              "  </thead>\n",
              "  <tbody>\n",
              "    <tr>\n",
              "      <th>1997-05-12</th>\n",
              "      <td>1465.0</td>\n",
              "      <td>11200</td>\n",
              "      <td>-0.009466</td>\n",
              "      <td>-0.009511</td>\n",
              "      <td>0</td>\n",
              "    </tr>\n",
              "    <tr>\n",
              "      <th>1997-05-13</th>\n",
              "      <td>1455.6</td>\n",
              "      <td>5300</td>\n",
              "      <td>-0.006416</td>\n",
              "      <td>-0.006437</td>\n",
              "      <td>0</td>\n",
              "    </tr>\n",
              "    <tr>\n",
              "      <th>1997-05-14</th>\n",
              "      <td>1452.0</td>\n",
              "      <td>7700</td>\n",
              "      <td>-0.002473</td>\n",
              "      <td>-0.002476</td>\n",
              "      <td>0</td>\n",
              "    </tr>\n",
              "    <tr>\n",
              "      <th>1997-05-15</th>\n",
              "      <td>1450.5</td>\n",
              "      <td>3600</td>\n",
              "      <td>-0.001033</td>\n",
              "      <td>-0.001034</td>\n",
              "      <td>1</td>\n",
              "    </tr>\n",
              "    <tr>\n",
              "      <th>1997-05-16</th>\n",
              "      <td>1442.0</td>\n",
              "      <td>5400</td>\n",
              "      <td>-0.005860</td>\n",
              "      <td>-0.005877</td>\n",
              "      <td>1</td>\n",
              "    </tr>\n",
              "  </tbody>\n",
              "</table>\n",
              "</div>"
            ],
            "text/plain": [
              "             close    vol   returns  log_returns  is_expiry\n",
              "Date                                                       \n",
              "1997-05-12  1465.0  11200 -0.009466    -0.009511          0\n",
              "1997-05-13  1455.6   5300 -0.006416    -0.006437          0\n",
              "1997-05-14  1452.0   7700 -0.002473    -0.002476          0\n",
              "1997-05-15  1450.5   3600 -0.001033    -0.001034          1\n",
              "1997-05-16  1442.0   5400 -0.005860    -0.005877          1"
            ]
          },
          "metadata": {
            "tags": []
          },
          "execution_count": 13
        }
      ]
    },
    {
      "cell_type": "code",
      "metadata": {
        "colab": {
          "base_uri": "https://localhost:8080/"
        },
        "id": "qYXww6HG57QN",
        "outputId": "e423527d-666a-4a08-d2f8-939b74d1875a"
      },
      "source": [
        "print(Xtrain[0])\n",
        "print(Ytrain[0])"
      ],
      "execution_count": 51,
      "outputs": [
        {
          "output_type": "stream",
          "text": [
            "[[5.62817486e-02 1.17214117e-04 8.88766194e-01]\n",
            " [5.67441034e-02 5.19722973e-05 9.01445284e-01]\n",
            " [5.65787580e-02 7.85113427e-05 8.96799091e-01]]\n",
            "0.05590512846421648\n"
          ],
          "name": "stdout"
        }
      ]
    },
    {
      "cell_type": "code",
      "metadata": {
        "colab": {
          "base_uri": "https://localhost:8080/"
        },
        "id": "zzIHuD2Z6NmO",
        "outputId": "55fa90e9-12f9-46cf-ad40-aff45dc4ee8c"
      },
      "source": [
        "val = np.array(Ytrain[0])\n",
        "val = np.c_[val, np.zeros(val.shape), np.zeros(val.shape)]\n",
        "scalar.inverse_transform(val)"
      ],
      "execution_count": 57,
      "outputs": [
        {
          "output_type": "execute_result",
          "data": {
            "text/plain": [
              "array([[ 1.43935000e+03,  6.00000000e+02, -1.36638206e+00]])"
            ]
          },
          "metadata": {
            "tags": []
          },
          "execution_count": 57
        }
      ]
    },
    {
      "cell_type": "code",
      "metadata": {
        "id": "ov4NO5Qy8Lfz"
      },
      "source": [
        "Xtrain, Ytrain = (np.array(Xtrain), np.array(Ytrain))\n",
        "Xtrain = np.reshape(Xtrain, (Xtrain.shape[0], Xtrain.shape[1], Xtrain.shape[2]))\n",
        "\n",
        "Xtest, Ytest = (np.array(Xtest), np.array(Ytest))\n",
        "Xtest = np.reshape(Xtest, (Xtest.shape[0], Xtest.shape[1], Xtest.shape[2]))\n",
        "# Xtrain[0]"
      ],
      "execution_count": 58,
      "outputs": []
    },
    {
      "cell_type": "markdown",
      "metadata": {
        "id": "vplKsSqR9WdL"
      },
      "source": [
        "LSTM MODEL"
      ]
    },
    {
      "cell_type": "code",
      "metadata": {
        "id": "scqLjhVt9X8b"
      },
      "source": [
        "from keras.models import Sequential\n",
        "from keras.layers import LSTM, Dense"
      ],
      "execution_count": 54,
      "outputs": []
    },
    {
      "cell_type": "code",
      "metadata": {
        "colab": {
          "base_uri": "https://localhost:8080/"
        },
        "id": "65xxjHo69jEa",
        "outputId": "38b53e04-435a-4940-eaca-36fd7017a6c0"
      },
      "source": [
        "model = Sequential()\n",
        "model.add(LSTM(128, return_sequences=True, input_shape= (Xtrain.shape[1], Xtrain.shape[2])))\n",
        "model.add(LSTM(64, return_sequences=False))\n",
        "model.add(Dense(25))\n",
        "model.add(Dense(1))\n",
        "\n",
        "model.compile(\n",
        "    loss='mean_squared_error',\n",
        "    optimizer='adam',\n",
        "    metrics=['accuracy']\n",
        ")\n",
        "\n",
        "try:\n",
        "  model.load_weights('/content/saved_weights/')\n",
        "except:\n",
        "  print('Unable to load weights')\n",
        "\n",
        "model.fit(\n",
        "    Xtrain, Ytrain, epochs=100, batch_size=16, verbose=2\n",
        ")\n",
        "model.save_weights('/content/saved_weights/')"
      ],
      "execution_count": null,
      "outputs": [
        {
          "output_type": "stream",
          "text": [
            "Epoch 1/100\n",
            "318/318 - 5s - loss: 2.9424e-04 - accuracy: 1.9681e-04\n",
            "Epoch 2/100\n",
            "318/318 - 2s - loss: 2.5804e-04 - accuracy: 1.9681e-04\n",
            "Epoch 3/100\n",
            "318/318 - 2s - loss: 2.3869e-04 - accuracy: 1.9681e-04\n",
            "Epoch 4/100\n",
            "318/318 - 2s - loss: 2.2789e-04 - accuracy: 1.9681e-04\n",
            "Epoch 5/100\n",
            "318/318 - 2s - loss: 2.3375e-04 - accuracy: 1.9681e-04\n",
            "Epoch 6/100\n",
            "318/318 - 2s - loss: 2.2538e-04 - accuracy: 1.9681e-04\n",
            "Epoch 7/100\n",
            "318/318 - 2s - loss: 2.0172e-04 - accuracy: 1.9681e-04\n",
            "Epoch 8/100\n",
            "318/318 - 2s - loss: 1.9333e-04 - accuracy: 1.9681e-04\n",
            "Epoch 9/100\n",
            "318/318 - 2s - loss: 2.0573e-04 - accuracy: 1.9681e-04\n",
            "Epoch 10/100\n",
            "318/318 - 2s - loss: 1.8612e-04 - accuracy: 1.9681e-04\n",
            "Epoch 11/100\n",
            "318/318 - 2s - loss: 1.9205e-04 - accuracy: 1.9681e-04\n",
            "Epoch 12/100\n",
            "318/318 - 2s - loss: 1.6848e-04 - accuracy: 1.9681e-04\n",
            "Epoch 13/100\n"
          ],
          "name": "stdout"
        }
      ]
    },
    {
      "cell_type": "code",
      "metadata": {
        "colab": {
          "base_uri": "https://localhost:8080/"
        },
        "id": "t-_yqsJ2-q6s",
        "outputId": "e1dda240-9a32-4aa5-db66-e8139df982d9"
      },
      "source": [
        "model.summary()"
      ],
      "execution_count": 60,
      "outputs": [
        {
          "output_type": "stream",
          "text": [
            "Model: \"sequential_2\"\n",
            "_________________________________________________________________\n",
            "Layer (type)                 Output Shape              Param #   \n",
            "=================================================================\n",
            "lstm_4 (LSTM)                (None, 3, 128)            67584     \n",
            "_________________________________________________________________\n",
            "lstm_5 (LSTM)                (None, 64)                49408     \n",
            "_________________________________________________________________\n",
            "dense_4 (Dense)              (None, 25)                1625      \n",
            "_________________________________________________________________\n",
            "dense_5 (Dense)              (None, 1)                 26        \n",
            "=================================================================\n",
            "Total params: 118,643\n",
            "Trainable params: 118,643\n",
            "Non-trainable params: 0\n",
            "_________________________________________________________________\n"
          ],
          "name": "stdout"
        }
      ]
    },
    {
      "cell_type": "code",
      "metadata": {
        "id": "4fuU4x88_CQ0"
      },
      "source": [
        "trainPred = model.predict(Xtrain)\n",
        "testPred = model.predict(Xtest)"
      ],
      "execution_count": 61,
      "outputs": []
    },
    {
      "cell_type": "code",
      "metadata": {
        "id": "-OF55dxx_Ny1",
        "colab": {
          "base_uri": "https://localhost:8080/"
        },
        "outputId": "cce74722-6f07-4d79-8b64-b4f09f86107d"
      },
      "source": [
        "trainPred = np.c_[trainPred, np.zeros(trainPred.shape), np.zeros(trainPred.shape)]\n",
        "testPred = np.c_[testPred, np.zeros(testPred.shape), np.zeros(testPred.shape)]\n",
        "print(trainPred.shape)"
      ],
      "execution_count": 62,
      "outputs": [
        {
          "output_type": "stream",
          "text": [
            "(5081, 3)\n"
          ],
          "name": "stdout"
        }
      ]
    },
    {
      "cell_type": "code",
      "metadata": {
        "id": "K2ya7uGY_cLj"
      },
      "source": [
        "trainPred = scalar.inverse_transform(trainPred)\n",
        "trainPred = [x[0] for x in trainPred]\n",
        "\n",
        "testPred = scalar.inverse_transform(testPred)\n",
        "testPred = [x[0] for x in testPred]\n",
        "\n",
        "# print(trainPred)\n",
        "# print(testPred)"
      ],
      "execution_count": 63,
      "outputs": []
    },
    {
      "cell_type": "code",
      "metadata": {
        "id": "sfXFENQo_9Lr"
      },
      "source": [
        "from sklearn.metrics import mean_squared_error"
      ],
      "execution_count": 64,
      "outputs": []
    },
    {
      "cell_type": "code",
      "metadata": {
        "colab": {
          "base_uri": "https://localhost:8080/"
        },
        "id": "FrEBv3BUAYd1",
        "outputId": "7592c4c4-3ac8-4a24-ccab-dc134270c7b7"
      },
      "source": [
        "trainScore = mean_squared_error([x[0][0] for x in Xtrain], trainPred, squared=False)\n",
        "print(\"Train Score: %.2f RMSE\" % (trainScore))\n",
        "\n",
        "testScore = mean_squared_error([x[0][0] for x in Xtest], testPred, squared=False)\n",
        "print(\"Train Score: %.2f RMSE\" % (testScore))"
      ],
      "execution_count": 65,
      "outputs": [
        {
          "output_type": "stream",
          "text": [
            "Train Score: 3492.99 RMSE\n",
            "Train Score: 993.11 RMSE\n"
          ],
          "name": "stdout"
        }
      ]
    },
    {
      "cell_type": "code",
      "metadata": {
        "colab": {
          "base_uri": "https://localhost:8080/",
          "height": 971
        },
        "id": "zb2ILYcMBQFu",
        "outputId": "65793720-cccf-4e4b-f5bd-e821f71f9caf"
      },
      "source": [
        "# Plot the data\n",
        "data = bse.filter(['close'])\n",
        "train = data[:split]\n",
        "valid = data[split:]\n",
        "valid['predictions'] = testPred\n",
        "# Visualize the data\n",
        "plt.figure(figsize=(16,6))\n",
        "plt.title('Model')\n",
        "plt.xlabel('Date', fontsize=18)\n",
        "plt.ylabel('Close Price INR', fontsize=18)\n",
        "plt.plot(train['close'])\n",
        "plt.plot(valid[['close', 'predictions']])\n",
        "print(valid.tail(25))\n",
        "plt.legend(['Train', 'Val', 'Predictions'], loc='lower right')\n",
        "plt.show()"
      ],
      "execution_count": 66,
      "outputs": [
        {
          "output_type": "stream",
          "text": [
            "/usr/local/lib/python3.7/dist-packages/ipykernel_launcher.py:5: SettingWithCopyWarning: \n",
            "A value is trying to be set on a copy of a slice from a DataFrame.\n",
            "Try using .loc[row_indexer,col_indexer] = value instead\n",
            "\n",
            "See the caveats in the documentation: https://pandas.pydata.org/pandas-docs/stable/user_guide/indexing.html#returning-a-view-versus-a-copy\n",
            "  \"\"\"\n"
          ],
          "name": "stderr"
        },
        {
          "output_type": "stream",
          "text": [
            "              close  predictions\n",
            "Date                            \n",
            "2021-03-31  1368.05  1411.916397\n",
            "2021-04-01  1385.20  1386.907048\n",
            "2021-04-05  1409.90  1424.369547\n",
            "2021-04-06  1411.05  1433.065047\n",
            "2021-04-07  1430.20  1439.272217\n",
            "2021-04-08  1439.85  1464.105701\n",
            "2021-04-09  1441.05  1465.786731\n",
            "2021-04-12  1425.75  1465.009056\n",
            "2021-04-13  1397.15  1415.031844\n",
            "2021-04-15  1360.75  1408.293551\n",
            "2021-04-16  1353.75  1368.658013\n",
            "2021-04-19  1362.55  1394.193619\n",
            "2021-04-20  1351.35  1406.942291\n",
            "2021-04-22  1351.10  1379.820126\n",
            "2021-04-23  1333.80  1385.538572\n",
            "2021-04-26  1343.55  1353.890025\n",
            "2021-04-27  1348.50  1368.152256\n",
            "2021-04-28  1356.00  1381.169622\n",
            "2021-04-29  1356.35  1384.279655\n",
            "2021-04-30  1354.35  1377.126610\n",
            "2021-05-03  1352.05  1369.937430\n",
            "2021-05-04  1329.40  1379.373012\n",
            "2021-05-05  1341.50  1352.160937\n",
            "2021-05-06  1361.60  1368.449237\n",
            "2021-05-07  1352.55  1388.273090\n"
          ],
          "name": "stdout"
        },
        {
          "output_type": "display_data",
          "data": {
            "image/png": "[encoded data removed]",
            "text/plain": [
              "<Figure size 1152x432 with 1 Axes>"
            ]
          },
          "metadata": {
            "tags": [],
            "needs_background": "light"
          }
        }
      ]
    }
  ]
}