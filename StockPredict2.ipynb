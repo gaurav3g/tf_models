{
  "nbformat": 4,
  "nbformat_minor": 0,
  "metadata": {
    "colab": {
      "name": "StockPredict2.ipynb",
      "provenance": [],
      "collapsed_sections": [],
      "authorship_tag": "ABX9TyPb488By9V8me7tyhqBRkES",
      "include_colab_link": true
    },
    "kernelspec": {
      "name": "python3",
      "display_name": "Python 3"
    },
    "language_info": {
      "name": "python"
    }
  },
  "cells": [
    {
      "cell_type": "markdown",
      "metadata": {
        "id": "view-in-github",
        "colab_type": "text"
      },
      "source": [
        "<a href=\"https://colab.research.google.com/github/gaurav3g/tf_models/blob/main/StockPredict2.ipynb\" target=\"_parent\"><img src=\"https://colab.research.google.com/assets/colab-badge.svg\" alt=\"Open In Colab\"/></a>"
      ]
    },
    {
      "cell_type": "code",
      "metadata": {
        "colab": {
          "resources": {
            "http://localhost:8080/nbextensions/google.colab/files.js": {
              "data": "Ly8gQ29weXJpZ2h0IDIwMTcgR29vZ2xlIExMQwovLwovLyBMaWNlbnNlZCB1bmRlciB0aGUgQXBhY2hlIExpY2Vuc2UsIFZlcnNpb24gMi4wICh0aGUgIkxpY2Vuc2UiKTsKLy8geW91IG1heSBub3QgdXNlIHRoaXMgZmlsZSBleGNlcHQgaW4gY29tcGxpYW5jZSB3aXRoIHRoZSBMaWNlbnNlLgovLyBZb3UgbWF5IG9idGFpbiBhIGNvcHkgb2YgdGhlIExpY2Vuc2UgYXQKLy8KLy8gICAgICBodHRwOi8vd3d3LmFwYWNoZS5vcmcvbGljZW5zZXMvTElDRU5TRS0yLjAKLy8KLy8gVW5sZXNzIHJlcXVpcmVkIGJ5IGFwcGxpY2FibGUgbGF3IG9yIGFncmVlZCB0byBpbiB3cml0aW5nLCBzb2Z0d2FyZQovLyBkaXN0cmlidXRlZCB1bmRlciB0aGUgTGljZW5zZSBpcyBkaXN0cmlidXRlZCBvbiBhbiAiQVMgSVMiIEJBU0lTLAovLyBXSVRIT1VUIFdBUlJBTlRJRVMgT1IgQ09ORElUSU9OUyBPRiBBTlkgS0lORCwgZWl0aGVyIGV4cHJlc3Mgb3IgaW1wbGllZC4KLy8gU2VlIHRoZSBMaWNlbnNlIGZvciB0aGUgc3BlY2lmaWMgbGFuZ3VhZ2UgZ292ZXJuaW5nIHBlcm1pc3Npb25zIGFuZAovLyBsaW1pdGF0aW9ucyB1bmRlciB0aGUgTGljZW5zZS4KCi8qKgogKiBAZmlsZW92ZXJ2aWV3IEhlbHBlcnMgZm9yIGdvb2dsZS5jb2xhYiBQeXRob24gbW9kdWxlLgogKi8KKGZ1bmN0aW9uKHNjb3BlKSB7CmZ1bmN0aW9uIHNwYW4odGV4dCwgc3R5bGVBdHRyaWJ1dGVzID0ge30pIHsKICBjb25zdCBlbGVtZW50ID0gZG9jdW1lbnQuY3JlYXRlRWxlbWVudCgnc3BhbicpOwogIGVsZW1lbnQudGV4dENvbnRlbnQgPSB0ZXh0OwogIGZvciAoY29uc3Qga2V5IG9mIE9iamVjdC5rZXlzKHN0eWxlQXR0cmlidXRlcykpIHsKICAgIGVsZW1lbnQuc3R5bGVba2V5XSA9IHN0eWxlQXR0cmlidXRlc1trZXldOwogIH0KICByZXR1cm4gZWxlbWVudDsKfQoKLy8gTWF4IG51bWJlciBvZiBieXRlcyB3aGljaCB3aWxsIGJlIHVwbG9hZGVkIGF0IGEgdGltZS4KY29uc3QgTUFYX1BBWUxPQURfU0laRSA9IDEwMCAqIDEwMjQ7CgpmdW5jdGlvbiBfdXBsb2FkRmlsZXMoaW5wdXRJZCwgb3V0cHV0SWQpIHsKICBjb25zdCBzdGVwcyA9IHVwbG9hZEZpbGVzU3RlcChpbnB1dElkLCBvdXRwdXRJZCk7CiAgY29uc3Qgb3V0cHV0RWxlbWVudCA9IGRvY3VtZW50LmdldEVsZW1lbnRCeUlkKG91dHB1dElkKTsKICAvLyBDYWNoZSBzdGVwcyBvbiB0aGUgb3V0cHV0RWxlbWVudCB0byBtYWtlIGl0IGF2YWlsYWJsZSBmb3IgdGhlIG5leHQgY2FsbAogIC8vIHRvIHVwbG9hZEZpbGVzQ29udGludWUgZnJvbSBQeXRob24uCiAgb3V0cHV0RWxlbWVudC5zdGVwcyA9IHN0ZXBzOwoKICByZXR1cm4gX3VwbG9hZEZpbGVzQ29udGludWUob3V0cHV0SWQpOwp9CgovLyBUaGlzIGlzIHJvdWdobHkgYW4gYXN5bmMgZ2VuZXJhdG9yIChub3Qgc3VwcG9ydGVkIGluIHRoZSBicm93c2VyIHlldCksCi8vIHdoZXJlIHRoZXJlIGFyZSBtdWx0aXBsZSBhc3luY2hyb25vdXMgc3RlcHMgYW5kIHRoZSBQeXRob24gc2lkZSBpcyBnb2luZwovLyB0byBwb2xsIGZvciBjb21wbGV0aW9uIG9mIGVhY2ggc3RlcC4KLy8gVGhpcyB1c2VzIGEgUHJvbWlzZSB0byBibG9jayB0aGUgcHl0aG9uIHNpZGUgb24gY29tcGxldGlvbiBvZiBlYWNoIHN0ZXAsCi8vIHRoZW4gcGFzc2VzIHRoZSByZXN1bHQgb2YgdGhlIHByZXZpb3VzIHN0ZXAgYXMgdGhlIGlucHV0IHRvIHRoZSBuZXh0IHN0ZXAuCmZ1bmN0aW9uIF91cGxvYWRGaWxlc0NvbnRpbnVlKG91dHB1dElkKSB7CiAgY29uc3Qgb3V0cHV0RWxlbWVudCA9IGRvY3VtZW50LmdldEVsZW1lbnRCeUlkKG91dHB1dElkKTsKICBjb25zdCBzdGVwcyA9IG91dHB1dEVsZW1lbnQuc3RlcHM7CgogIGNvbnN0IG5leHQgPSBzdGVwcy5uZXh0KG91dHB1dEVsZW1lbnQubGFzdFByb21pc2VWYWx1ZSk7CiAgcmV0dXJuIFByb21pc2UucmVzb2x2ZShuZXh0LnZhbHVlLnByb21pc2UpLnRoZW4oKHZhbHVlKSA9PiB7CiAgICAvLyBDYWNoZSB0aGUgbGFzdCBwcm9taXNlIHZhbHVlIHRvIG1ha2UgaXQgYXZhaWxhYmxlIHRvIHRoZSBuZXh0CiAgICAvLyBzdGVwIG9mIHRoZSBnZW5lcmF0b3IuCiAgICBvdXRwdXRFbGVtZW50Lmxhc3RQcm9taXNlVmFsdWUgPSB2YWx1ZTsKICAgIHJldHVybiBuZXh0LnZhbHVlLnJlc3BvbnNlOwogIH0pOwp9CgovKioKICogR2VuZXJhdG9yIGZ1bmN0aW9uIHdoaWNoIGlzIGNhbGxlZCBiZXR3ZWVuIGVhY2ggYXN5bmMgc3RlcCBvZiB0aGUgdXBsb2FkCiAqIHByb2Nlc3MuCiAqIEBwYXJhbSB7c3RyaW5nfSBpbnB1dElkIEVsZW1lbnQgSUQgb2YgdGhlIGlucHV0IGZpbGUgcGlja2VyIGVsZW1lbnQuCiAqIEBwYXJhbSB7c3RyaW5nfSBvdXRwdXRJZCBFbGVtZW50IElEIG9mIHRoZSBvdXRwdXQgZGlzcGxheS4KICogQHJldHVybiB7IUl0ZXJhYmxlPCFPYmplY3Q+fSBJdGVyYWJsZSBvZiBuZXh0IHN0ZXBzLgogKi8KZnVuY3Rpb24qIHVwbG9hZEZpbGVzU3RlcChpbnB1dElkLCBvdXRwdXRJZCkgewogIGNvbnN0IGlucHV0RWxlbWVudCA9IGRvY3VtZW50LmdldEVsZW1lbnRCeUlkKGlucHV0SWQpOwogIGlucHV0RWxlbWVudC5kaXNhYmxlZCA9IGZhbHNlOwoKICBjb25zdCBvdXRwdXRFbGVtZW50ID0gZG9jdW1lbnQuZ2V0RWxlbWVudEJ5SWQob3V0cHV0SWQpOwogIG91dHB1dEVsZW1lbnQuaW5uZXJIVE1MID0gJyc7CgogIGNvbnN0IHBpY2tlZFByb21pc2UgPSBuZXcgUHJvbWlzZSgocmVzb2x2ZSkgPT4gewogICAgaW5wdXRFbGVtZW50LmFkZEV2ZW50TGlzdGVuZXIoJ2NoYW5nZScsIChlKSA9PiB7CiAgICAgIHJlc29sdmUoZS50YXJnZXQuZmlsZXMpOwogICAgfSk7CiAgfSk7CgogIGNvbnN0IGNhbmNlbCA9IGRvY3VtZW50LmNyZWF0ZUVsZW1lbnQoJ2J1dHRvbicpOwogIGlucHV0RWxlbWVudC5wYXJlbnRFbGVtZW50LmFwcGVuZENoaWxkKGNhbmNlbCk7CiAgY2FuY2VsLnRleHRDb250ZW50ID0gJ0NhbmNlbCB1cGxvYWQnOwogIGNvbnN0IGNhbmNlbFByb21pc2UgPSBuZXcgUHJvbWlzZSgocmVzb2x2ZSkgPT4gewogICAgY2FuY2VsLm9uY2xpY2sgPSAoKSA9PiB7CiAgICAgIHJlc29sdmUobnVsbCk7CiAgICB9OwogIH0pOwoKICAvLyBXYWl0IGZvciB0aGUgdXNlciB0byBwaWNrIHRoZSBmaWxlcy4KICBjb25zdCBmaWxlcyA9IHlpZWxkIHsKICAgIHByb21pc2U6IFByb21pc2UucmFjZShbcGlja2VkUHJvbWlzZSwgY2FuY2VsUHJvbWlzZV0pLAogICAgcmVzcG9uc2U6IHsKICAgICAgYWN0aW9uOiAnc3RhcnRpbmcnLAogICAgfQogIH07CgogIGNhbmNlbC5yZW1vdmUoKTsKCiAgLy8gRGlzYWJsZSB0aGUgaW5wdXQgZWxlbWVudCBzaW5jZSBmdXJ0aGVyIHBpY2tzIGFyZSBub3QgYWxsb3dlZC4KICBpbnB1dEVsZW1lbnQuZGlzYWJsZWQgPSB0cnVlOwoKICBpZiAoIWZpbGVzKSB7CiAgICByZXR1cm4gewogICAgICByZXNwb25zZTogewogICAgICAgIGFjdGlvbjogJ2NvbXBsZXRlJywKICAgICAgfQogICAgfTsKICB9CgogIGZvciAoY29uc3QgZmlsZSBvZiBmaWxlcykgewogICAgY29uc3QgbGkgPSBkb2N1bWVudC5jcmVhdGVFbGVtZW50KCdsaScpOwogICAgbGkuYXBwZW5kKHNwYW4oZmlsZS5uYW1lLCB7Zm9udFdlaWdodDogJ2JvbGQnfSkpOwogICAgbGkuYXBwZW5kKHNwYW4oCiAgICAgICAgYCgke2ZpbGUudHlwZSB8fCAnbi9hJ30pIC0gJHtmaWxlLnNpemV9IGJ5dGVzLCBgICsKICAgICAgICBgbGFzdCBtb2RpZmllZDogJHsKICAgICAgICAgICAgZmlsZS5sYXN0TW9kaWZpZWREYXRlID8gZmlsZS5sYXN0TW9kaWZpZWREYXRlLnRvTG9jYWxlRGF0ZVN0cmluZygpIDoKICAgICAgICAgICAgICAgICAgICAgICAgICAgICAgICAgICAgJ24vYSd9IC0gYCkpOwogICAgY29uc3QgcGVyY2VudCA9IHNwYW4oJzAlIGRvbmUnKTsKICAgIGxpLmFwcGVuZENoaWxkKHBlcmNlbnQpOwoKICAgIG91dHB1dEVsZW1lbnQuYXBwZW5kQ2hpbGQobGkpOwoKICAgIGNvbnN0IGZpbGVEYXRhUHJvbWlzZSA9IG5ldyBQcm9taXNlKChyZXNvbHZlKSA9PiB7CiAgICAgIGNvbnN0IHJlYWRlciA9IG5ldyBGaWxlUmVhZGVyKCk7CiAgICAgIHJlYWRlci5vbmxvYWQgPSAoZSkgPT4gewogICAgICAgIHJlc29sdmUoZS50YXJnZXQucmVzdWx0KTsKICAgICAgfTsKICAgICAgcmVhZGVyLnJlYWRBc0FycmF5QnVmZmVyKGZpbGUpOwogICAgfSk7CiAgICAvLyBXYWl0IGZvciB0aGUgZGF0YSB0byBiZSByZWFkeS4KICAgIGxldCBmaWxlRGF0YSA9IHlpZWxkIHsKICAgICAgcHJvbWlzZTogZmlsZURhdGFQcm9taXNlLAogICAgICByZXNwb25zZTogewogICAgICAgIGFjdGlvbjogJ2NvbnRpbnVlJywKICAgICAgfQogICAgfTsKCiAgICAvLyBVc2UgYSBjaHVua2VkIHNlbmRpbmcgdG8gYXZvaWQgbWVzc2FnZSBzaXplIGxpbWl0cy4gU2VlIGIvNjIxMTU2NjAuCiAgICBsZXQgcG9zaXRpb24gPSAwOwogICAgd2hpbGUgKHBvc2l0aW9uIDwgZmlsZURhdGEuYnl0ZUxlbmd0aCkgewogICAgICBjb25zdCBsZW5ndGggPSBNYXRoLm1pbihmaWxlRGF0YS5ieXRlTGVuZ3RoIC0gcG9zaXRpb24sIE1BWF9QQVlMT0FEX1NJWkUpOwogICAgICBjb25zdCBjaHVuayA9IG5ldyBVaW50OEFycmF5KGZpbGVEYXRhLCBwb3NpdGlvbiwgbGVuZ3RoKTsKICAgICAgcG9zaXRpb24gKz0gbGVuZ3RoOwoKICAgICAgY29uc3QgYmFzZTY0ID0gYnRvYShTdHJpbmcuZnJvbUNoYXJDb2RlLmFwcGx5KG51bGwsIGNodW5rKSk7CiAgICAgIHlpZWxkIHsKICAgICAgICByZXNwb25zZTogewogICAgICAgICAgYWN0aW9uOiAnYXBwZW5kJywKICAgICAgICAgIGZpbGU6IGZpbGUubmFtZSwKICAgICAgICAgIGRhdGE6IGJhc2U2NCwKICAgICAgICB9LAogICAgICB9OwogICAgICBwZXJjZW50LnRleHRDb250ZW50ID0KICAgICAgICAgIGAke01hdGgucm91bmQoKHBvc2l0aW9uIC8gZmlsZURhdGEuYnl0ZUxlbmd0aCkgKiAxMDApfSUgZG9uZWA7CiAgICB9CiAgfQoKICAvLyBBbGwgZG9uZS4KICB5aWVsZCB7CiAgICByZXNwb25zZTogewogICAgICBhY3Rpb246ICdjb21wbGV0ZScsCiAgICB9CiAgfTsKfQoKc2NvcGUuZ29vZ2xlID0gc2NvcGUuZ29vZ2xlIHx8IHt9OwpzY29wZS5nb29nbGUuY29sYWIgPSBzY29wZS5nb29nbGUuY29sYWIgfHwge307CnNjb3BlLmdvb2dsZS5jb2xhYi5fZmlsZXMgPSB7CiAgX3VwbG9hZEZpbGVzLAogIF91cGxvYWRGaWxlc0NvbnRpbnVlLAp9Owp9KShzZWxmKTsK",
              "ok": true,
              "headers": [
                [
                  "content-type",
                  "application/javascript"
                ]
              ],
              "status": 200,
              "status_text": ""
            }
          },
          "base_uri": "https://localhost:8080/",
          "height": 72
        },
        "id": "Ag-f5HK7_m4E",
        "outputId": "7b81fbf5-ecc4-472f-e4f2-d207cd2a95ad"
      },
      "source": [
        "from google.colab import files\n",
        "uploaded = files.upload()"
      ],
      "execution_count": null,
      "outputs": [
        {
          "output_type": "display_data",
          "data": {
            "text/html": [
              "\n",
              "     <input type=\"file\" id=\"files-b68ff533-893c-46c8-9ab4-d02247b37d24\" name=\"files[]\" multiple disabled\n",
              "        style=\"border:none\" />\n",
              "     <output id=\"result-b68ff533-893c-46c8-9ab4-d02247b37d24\">\n",
              "      Upload widget is only available when the cell has been executed in the\n",
              "      current browser session. Please rerun this cell to enable.\n",
              "      </output>\n",
              "      <script src=\"/nbextensions/google.colab/files.js\"></script> "
            ],
            "text/plain": [
              "<IPython.core.display.HTML object>"
            ]
          },
          "metadata": {
            "tags": []
          }
        },
        {
          "output_type": "stream",
          "text": [
            "Saving INFY_data.csv to INFY_data.csv\n"
          ],
          "name": "stdout"
        }
      ]
    },
    {
      "cell_type": "code",
      "metadata": {
        "id": "23eEUfyO_s3A"
      },
      "source": [
        "import pandas as pd\n",
        "import numpy as np\n",
        "import matplotlib.pyplot as plt\n",
        "\n",
        "plt.style.use(style='seaborn')\n",
        "%matplotlib inline"
      ],
      "execution_count": null,
      "outputs": []
    },
    {
      "cell_type": "code",
      "metadata": {
        "colab": {
          "base_uri": "https://localhost:8080/"
        },
        "id": "s427kTJwA18m",
        "outputId": "b5ad9e8e-1248-41c1-c992-f97a778b0ad1"
      },
      "source": [
        "new_column_names = ['series', 'open', 'high', 'low', 'prev close', 'ltp', 'close', 'vwap', '52w h', '52w l', 'vol', 'value','no of trades'];\n",
        "convert_dict = {\n",
        "    'series': str,\n",
        "    'open': float,\n",
        "    'high': float,\n",
        "    'low': float,\n",
        "    'prev close': float,\n",
        "    'ltp': float,\n",
        "    'close': float,\n",
        "    'vwap': float,\n",
        "    '52w h': float,\n",
        "    '52w l': float,\n",
        "    'vol': int,\n",
        "    'value': float,\n",
        "    'no of trades': int,\n",
        "}\n",
        "  \n",
        "bse = pd.read_csv('INFY_data.csv', index_col='Date ', usecols=['Date ', 'HIGH ', 'VOLUME '])\n",
        "bse.info()\n",
        "bse.columns = ['close', 'vol']\n",
        "bse[['close', 'vol']] = bse[['close', 'vol']].replace(',','', regex=True)\n",
        "bse = bse.astype({\n",
        "    'close': float,\n",
        "    'vol': int,\n",
        "})\n",
        "bse.index = pd.to_datetime(bse.index)\n",
        "bse = bse.sort_index()"
      ],
      "execution_count": null,
      "outputs": [
        {
          "output_type": "stream",
          "text": [
            "<class 'pandas.core.frame.DataFrame'>\n",
            "Index: 5982 entries, 07-May-2021 to 09-May-1997\n",
            "Data columns (total 2 columns):\n",
            " #   Column   Non-Null Count  Dtype \n",
            "---  ------   --------------  ----- \n",
            " 0   HIGH     5982 non-null   object\n",
            " 1   VOLUME   5982 non-null   int64 \n",
            "dtypes: int64(1), object(1)\n",
            "memory usage: 140.2+ KB\n"
          ],
          "name": "stdout"
        }
      ]
    },
    {
      "cell_type": "code",
      "metadata": {
        "colab": {
          "base_uri": "https://localhost:8080/",
          "height": 297
        },
        "id": "daN0JaVdBCoY",
        "outputId": "2a34c50f-8b98-4a42-9fdc-c045efa51749"
      },
      "source": [
        "# bse = bse[['close'],]\n",
        "bse.describe()"
      ],
      "execution_count": null,
      "outputs": [
        {
          "output_type": "execute_result",
          "data": {
            "text/html": [
              "<div>\n",
              "<style scoped>\n",
              "    .dataframe tbody tr th:only-of-type {\n",
              "        vertical-align: middle;\n",
              "    }\n",
              "\n",
              "    .dataframe tbody tr th {\n",
              "        vertical-align: top;\n",
              "    }\n",
              "\n",
              "    .dataframe thead th {\n",
              "        text-align: right;\n",
              "    }\n",
              "</style>\n",
              "<table border=\"1\" class=\"dataframe\">\n",
              "  <thead>\n",
              "    <tr style=\"text-align: right;\">\n",
              "      <th></th>\n",
              "      <th>close</th>\n",
              "      <th>vol</th>\n",
              "    </tr>\n",
              "  </thead>\n",
              "  <tbody>\n",
              "    <tr>\n",
              "      <th>count</th>\n",
              "      <td>5982.000000</td>\n",
              "      <td>5.982000e+03</td>\n",
              "    </tr>\n",
              "    <tr>\n",
              "      <th>mean</th>\n",
              "      <td>2693.881879</td>\n",
              "      <td>2.340822e+06</td>\n",
              "    </tr>\n",
              "    <tr>\n",
              "      <th>std</th>\n",
              "      <td>1913.872404</td>\n",
              "      <td>4.039966e+06</td>\n",
              "    </tr>\n",
              "    <tr>\n",
              "      <th>min</th>\n",
              "      <td>558.000000</td>\n",
              "      <td>6.000000e+02</td>\n",
              "    </tr>\n",
              "    <tr>\n",
              "      <th>25%</th>\n",
              "      <td>1308.625000</td>\n",
              "      <td>5.761642e+05</td>\n",
              "    </tr>\n",
              "    <tr>\n",
              "      <th>50%</th>\n",
              "      <td>2330.450000</td>\n",
              "      <td>1.058302e+06</td>\n",
              "    </tr>\n",
              "    <tr>\n",
              "      <th>75%</th>\n",
              "      <td>3235.000000</td>\n",
              "      <td>2.422535e+06</td>\n",
              "    </tr>\n",
              "    <tr>\n",
              "      <th>max</th>\n",
              "      <td>16875.250000</td>\n",
              "      <td>9.043339e+07</td>\n",
              "    </tr>\n",
              "  </tbody>\n",
              "</table>\n",
              "</div>"
            ],
            "text/plain": [
              "              close           vol\n",
              "count   5982.000000  5.982000e+03\n",
              "mean    2693.881879  2.340822e+06\n",
              "std     1913.872404  4.039966e+06\n",
              "min      558.000000  6.000000e+02\n",
              "25%     1308.625000  5.761642e+05\n",
              "50%     2330.450000  1.058302e+06\n",
              "75%     3235.000000  2.422535e+06\n",
              "max    16875.250000  9.043339e+07"
            ]
          },
          "metadata": {
            "tags": []
          },
          "execution_count": 5
        }
      ]
    },
    {
      "cell_type": "code",
      "metadata": {
        "colab": {
          "base_uri": "https://localhost:8080/",
          "height": 374
        },
        "id": "U0goE3OVBQ6p",
        "outputId": "34d11bdb-b40d-4cf7-ff5f-a56ba0aac156"
      },
      "source": [
        "plt.figure(1, figsize=(16, 6))\n",
        "_ = plt.plot(bse.close)"
      ],
      "execution_count": null,
      "outputs": [
        {
          "output_type": "display_data",
          "data": {
            "image/png": "[encoded data removed]",
            "text/plain": [
              "<Figure size 1152x432 with 1 Axes>"
            ]
          },
          "metadata": {
            "tags": [],
            "needs_background": "light"
          }
        }
      ]
    },
    {
      "cell_type": "code",
      "metadata": {
        "id": "BJ_6jnC1BjKB",
        "colab": {
          "base_uri": "https://localhost:8080/",
          "height": 390
        },
        "outputId": "8a9cd7bf-a434-4d3d-b409-3362399d6b37"
      },
      "source": [
        "bse['returns'] = bse.close.pct_change()\n",
        "bse['log_returns'] = np.log( 1 + bse.returns)\n",
        "bse['is_expiry'] = (bse.index.dayofweek >= 3).astype(int)\n",
        "bse.head(10)"
      ],
      "execution_count": null,
      "outputs": [
        {
          "output_type": "execute_result",
          "data": {
            "text/html": [
              "<div>\n",
              "<style scoped>\n",
              "    .dataframe tbody tr th:only-of-type {\n",
              "        vertical-align: middle;\n",
              "    }\n",
              "\n",
              "    .dataframe tbody tr th {\n",
              "        vertical-align: top;\n",
              "    }\n",
              "\n",
              "    .dataframe thead th {\n",
              "        text-align: right;\n",
              "    }\n",
              "</style>\n",
              "<table border=\"1\" class=\"dataframe\">\n",
              "  <thead>\n",
              "    <tr style=\"text-align: right;\">\n",
              "      <th></th>\n",
              "      <th>close</th>\n",
              "      <th>vol</th>\n",
              "      <th>returns</th>\n",
              "      <th>log_returns</th>\n",
              "      <th>is_expiry</th>\n",
              "    </tr>\n",
              "    <tr>\n",
              "      <th>Date</th>\n",
              "      <th></th>\n",
              "      <th></th>\n",
              "      <th></th>\n",
              "      <th></th>\n",
              "      <th></th>\n",
              "    </tr>\n",
              "  </thead>\n",
              "  <tbody>\n",
              "    <tr>\n",
              "      <th>1997-05-09</th>\n",
              "      <td>1479.00</td>\n",
              "      <td>14500</td>\n",
              "      <td>NaN</td>\n",
              "      <td>NaN</td>\n",
              "      <td>1</td>\n",
              "    </tr>\n",
              "    <tr>\n",
              "      <th>1997-05-12</th>\n",
              "      <td>1465.00</td>\n",
              "      <td>11200</td>\n",
              "      <td>-0.009466</td>\n",
              "      <td>-0.009511</td>\n",
              "      <td>0</td>\n",
              "    </tr>\n",
              "    <tr>\n",
              "      <th>1997-05-13</th>\n",
              "      <td>1455.60</td>\n",
              "      <td>5300</td>\n",
              "      <td>-0.006416</td>\n",
              "      <td>-0.006437</td>\n",
              "      <td>0</td>\n",
              "    </tr>\n",
              "    <tr>\n",
              "      <th>1997-05-14</th>\n",
              "      <td>1452.00</td>\n",
              "      <td>7700</td>\n",
              "      <td>-0.002473</td>\n",
              "      <td>-0.002476</td>\n",
              "      <td>0</td>\n",
              "    </tr>\n",
              "    <tr>\n",
              "      <th>1997-05-15</th>\n",
              "      <td>1450.50</td>\n",
              "      <td>3600</td>\n",
              "      <td>-0.001033</td>\n",
              "      <td>-0.001034</td>\n",
              "      <td>1</td>\n",
              "    </tr>\n",
              "    <tr>\n",
              "      <th>1997-05-16</th>\n",
              "      <td>1442.00</td>\n",
              "      <td>5400</td>\n",
              "      <td>-0.005860</td>\n",
              "      <td>-0.005877</td>\n",
              "      <td>1</td>\n",
              "    </tr>\n",
              "    <tr>\n",
              "      <th>1997-05-19</th>\n",
              "      <td>1461.75</td>\n",
              "      <td>6500</td>\n",
              "      <td>0.013696</td>\n",
              "      <td>0.013603</td>\n",
              "      <td>0</td>\n",
              "    </tr>\n",
              "    <tr>\n",
              "      <th>1997-05-20</th>\n",
              "      <td>1450.00</td>\n",
              "      <td>4200</td>\n",
              "      <td>-0.008038</td>\n",
              "      <td>-0.008071</td>\n",
              "      <td>0</td>\n",
              "    </tr>\n",
              "    <tr>\n",
              "      <th>1997-05-21</th>\n",
              "      <td>1450.00</td>\n",
              "      <td>5100</td>\n",
              "      <td>0.000000</td>\n",
              "      <td>0.000000</td>\n",
              "      <td>0</td>\n",
              "    </tr>\n",
              "    <tr>\n",
              "      <th>1997-05-22</th>\n",
              "      <td>1440.00</td>\n",
              "      <td>33100</td>\n",
              "      <td>-0.006897</td>\n",
              "      <td>-0.006920</td>\n",
              "      <td>1</td>\n",
              "    </tr>\n",
              "  </tbody>\n",
              "</table>\n",
              "</div>"
            ],
            "text/plain": [
              "              close    vol   returns  log_returns  is_expiry\n",
              "Date                                                        \n",
              "1997-05-09  1479.00  14500       NaN          NaN          1\n",
              "1997-05-12  1465.00  11200 -0.009466    -0.009511          0\n",
              "1997-05-13  1455.60   5300 -0.006416    -0.006437          0\n",
              "1997-05-14  1452.00   7700 -0.002473    -0.002476          0\n",
              "1997-05-15  1450.50   3600 -0.001033    -0.001034          1\n",
              "1997-05-16  1442.00   5400 -0.005860    -0.005877          1\n",
              "1997-05-19  1461.75   6500  0.013696     0.013603          0\n",
              "1997-05-20  1450.00   4200 -0.008038    -0.008071          0\n",
              "1997-05-21  1450.00   5100  0.000000     0.000000          0\n",
              "1997-05-22  1440.00  33100 -0.006897    -0.006920          1"
            ]
          },
          "metadata": {
            "tags": []
          },
          "execution_count": 7
        }
      ]
    },
    {
      "cell_type": "code",
      "metadata": {
        "colab": {
          "base_uri": "https://localhost:8080/"
        },
        "id": "ZySG2Fw_CM5Y",
        "outputId": "cd8a7cf7-40df-4f69-ec1e-d7ce0f2687cc"
      },
      "source": [
        "bse.dropna(inplace=True)\n",
        "X = bse[['close', 'vol', 'log_returns', 'is_expiry']].values\n",
        "X"
      ],
      "execution_count": null,
      "outputs": [
        {
          "output_type": "execute_result",
          "data": {
            "text/plain": [
              "array([[ 1.46500000e+03,  1.12000000e+04, -9.51094126e-03,\n",
              "         0.00000000e+00],\n",
              "       [ 1.45560000e+03,  5.30000000e+03, -6.43705571e-03,\n",
              "         0.00000000e+00],\n",
              "       [ 1.45200000e+03,  7.70000000e+03, -2.47627035e-03,\n",
              "         0.00000000e+00],\n",
              "       ...,\n",
              "       [ 1.34390000e+03,  3.93978800e+06, -8.18871871e-03,\n",
              "         0.00000000e+00],\n",
              "       [ 1.36470000e+03,  4.81009000e+06,  1.53587897e-02,\n",
              "         1.00000000e+00],\n",
              "       [ 1.37305000e+03,  4.99143500e+06,  6.09991847e-03,\n",
              "         1.00000000e+00]])"
            ]
          },
          "metadata": {
            "tags": []
          },
          "execution_count": 8
        }
      ]
    },
    {
      "cell_type": "code",
      "metadata": {
        "colab": {
          "base_uri": "https://localhost:8080/"
        },
        "id": "LBWjTVfOCd6b",
        "outputId": "1d59ae30-4865-44c7-b286-56707ca153d4"
      },
      "source": [
        "from sklearn.preprocessing import MinMaxScaler\n",
        "\n",
        "scalar = MinMaxScaler(feature_range=(0, 1)).fit(X)\n",
        "x_scaled = scalar.transform(X)\n",
        "# print(x_scaled[:5])\n",
        "y = [np.take(x, [0, 3]) for x in x_scaled]\n",
        "y[:5]"
      ],
      "execution_count": null,
      "outputs": [
        {
          "output_type": "execute_result",
          "data": {
            "text/plain": [
              "[array([0.05558535, 0.        ]),\n",
              " array([0.05500927, 0.        ]),\n",
              " array([0.05478864, 0.        ]),\n",
              " array([0.05469672, 1.        ]),\n",
              " array([0.0541758, 1.       ])]"
            ]
          },
          "metadata": {
            "tags": []
          },
          "execution_count": 9
        }
      ]
    },
    {
      "cell_type": "markdown",
      "metadata": {
        "id": "-CYKeGDV3pnO"
      },
      "source": [
        "Train test split"
      ]
    },
    {
      "cell_type": "code",
      "metadata": {
        "id": "K5ovTzI53sVy"
      },
      "source": [
        "n=2\n",
        "split = int(np.ceil(len(x_scaled) * 0.85))\n",
        "\n",
        "x_train = x_scaled[:split]\n",
        "x_test = x_scaled[split-n:]\n",
        "y_train = y[:split]\n",
        "y_test = y[split-n:]\n"
      ],
      "execution_count": null,
      "outputs": []
    },
    {
      "cell_type": "code",
      "metadata": {
        "id": "Y96Lh-nlwgHm"
      },
      "source": [
        "assert len(x_train) == len(y_train)\n",
        "assert len(x_test) == len(y_test)"
      ],
      "execution_count": null,
      "outputs": []
    },
    {
      "cell_type": "markdown",
      "metadata": {
        "id": "1XvXZHGj4Z2j"
      },
      "source": [
        "Labelling"
      ]
    },
    {
      "cell_type": "code",
      "metadata": {
        "id": "CewQAjIC4Xs2",
        "colab": {
          "base_uri": "https://localhost:8080/"
        },
        "outputId": "61e651a6-fb6c-4e16-c135-3630663b905c"
      },
      "source": [
        "Xtrain = [] \n",
        "Ytrain = [] \n",
        "Xtest = [] \n",
        "Ytest = []\n",
        "\n",
        "for i in range(n, len(x_train)):\n",
        "  s = [y_train[i][1], 0, 0, 0]\n",
        "  Xtrain.append(np.append(x_train[i-n : i, : x_train.shape[1]], [s], axis=0))\n",
        "  Ytrain.append(y_train[i][0]) # predict next record\n",
        "print(Xtrain[0])\n",
        "for i in range(n, len(x_test)):\n",
        "  s = [y_test[i][1], 0, 0, 0]\n",
        "  Xtest.append(np.append(x_test[i-n : i, : x_test.shape[1]], [s], axis=0))\n",
        "  Ytest.append(y_test[i][0]) # predict next record"
      ],
      "execution_count": null,
      "outputs": [
        {
          "output_type": "stream",
          "text": [
            "[[5.55853468e-02 1.17214117e-04 8.82263882e-01 0.00000000e+00]\n",
            " [5.50092693e-02 5.19722973e-05 8.84244589e-01 0.00000000e+00]\n",
            " [0.00000000e+00 0.00000000e+00 0.00000000e+00 0.00000000e+00]]\n"
          ],
          "name": "stdout"
        }
      ]
    },
    {
      "cell_type": "code",
      "metadata": {
        "colab": {
          "base_uri": "https://localhost:8080/",
          "height": 235
        },
        "id": "o7WwQkuk50mS",
        "outputId": "67a83782-fa27-4273-e492-587ac9eb47df"
      },
      "source": [
        "bse.head()"
      ],
      "execution_count": null,
      "outputs": [
        {
          "output_type": "execute_result",
          "data": {
            "text/html": [
              "<div>\n",
              "<style scoped>\n",
              "    .dataframe tbody tr th:only-of-type {\n",
              "        vertical-align: middle;\n",
              "    }\n",
              "\n",
              "    .dataframe tbody tr th {\n",
              "        vertical-align: top;\n",
              "    }\n",
              "\n",
              "    .dataframe thead th {\n",
              "        text-align: right;\n",
              "    }\n",
              "</style>\n",
              "<table border=\"1\" class=\"dataframe\">\n",
              "  <thead>\n",
              "    <tr style=\"text-align: right;\">\n",
              "      <th></th>\n",
              "      <th>close</th>\n",
              "      <th>vol</th>\n",
              "      <th>returns</th>\n",
              "      <th>log_returns</th>\n",
              "      <th>is_expiry</th>\n",
              "    </tr>\n",
              "    <tr>\n",
              "      <th>Date</th>\n",
              "      <th></th>\n",
              "      <th></th>\n",
              "      <th></th>\n",
              "      <th></th>\n",
              "      <th></th>\n",
              "    </tr>\n",
              "  </thead>\n",
              "  <tbody>\n",
              "    <tr>\n",
              "      <th>1997-05-12</th>\n",
              "      <td>1465.0</td>\n",
              "      <td>11200</td>\n",
              "      <td>-0.009466</td>\n",
              "      <td>-0.009511</td>\n",
              "      <td>0</td>\n",
              "    </tr>\n",
              "    <tr>\n",
              "      <th>1997-05-13</th>\n",
              "      <td>1455.6</td>\n",
              "      <td>5300</td>\n",
              "      <td>-0.006416</td>\n",
              "      <td>-0.006437</td>\n",
              "      <td>0</td>\n",
              "    </tr>\n",
              "    <tr>\n",
              "      <th>1997-05-14</th>\n",
              "      <td>1452.0</td>\n",
              "      <td>7700</td>\n",
              "      <td>-0.002473</td>\n",
              "      <td>-0.002476</td>\n",
              "      <td>0</td>\n",
              "    </tr>\n",
              "    <tr>\n",
              "      <th>1997-05-15</th>\n",
              "      <td>1450.5</td>\n",
              "      <td>3600</td>\n",
              "      <td>-0.001033</td>\n",
              "      <td>-0.001034</td>\n",
              "      <td>1</td>\n",
              "    </tr>\n",
              "    <tr>\n",
              "      <th>1997-05-16</th>\n",
              "      <td>1442.0</td>\n",
              "      <td>5400</td>\n",
              "      <td>-0.005860</td>\n",
              "      <td>-0.005877</td>\n",
              "      <td>1</td>\n",
              "    </tr>\n",
              "  </tbody>\n",
              "</table>\n",
              "</div>"
            ],
            "text/plain": [
              "             close    vol   returns  log_returns  is_expiry\n",
              "Date                                                       \n",
              "1997-05-12  1465.0  11200 -0.009466    -0.009511          0\n",
              "1997-05-13  1455.6   5300 -0.006416    -0.006437          0\n",
              "1997-05-14  1452.0   7700 -0.002473    -0.002476          0\n",
              "1997-05-15  1450.5   3600 -0.001033    -0.001034          1\n",
              "1997-05-16  1442.0   5400 -0.005860    -0.005877          1"
            ]
          },
          "metadata": {
            "tags": []
          },
          "execution_count": 13
        }
      ]
    },
    {
      "cell_type": "code",
      "metadata": {
        "colab": {
          "base_uri": "https://localhost:8080/"
        },
        "id": "qYXww6HG57QN",
        "outputId": "dc68272d-c8c9-4ead-eb72-3e0062d6ab9a"
      },
      "source": [
        "print(Xtrain[0])\n",
        "print(Ytrain[0])"
      ],
      "execution_count": null,
      "outputs": [
        {
          "output_type": "stream",
          "text": [
            "[[5.55853468e-02 1.17214117e-04 8.82263882e-01 0.00000000e+00]\n",
            " [5.50092693e-02 5.19722973e-05 8.84244589e-01 0.00000000e+00]\n",
            " [0.00000000e+00 0.00000000e+00 0.00000000e+00 0.00000000e+00]]\n",
            "0.05478864391977815\n"
          ],
          "name": "stdout"
        }
      ]
    },
    {
      "cell_type": "code",
      "metadata": {
        "colab": {
          "base_uri": "https://localhost:8080/"
        },
        "id": "zzIHuD2Z6NmO",
        "outputId": "dd4a7be3-5e10-423c-b204-9633399b9b3b"
      },
      "source": [
        "val = np.array(Ytrain[0])\n",
        "val = np.c_[val, np.zeros(val.shape), np.zeros(val.shape), np.zeros(val.shape)]\n",
        "scalar.inverse_transform(val)"
      ],
      "execution_count": null,
      "outputs": [
        {
          "output_type": "stream",
          "text": [
            "(1, 4)\n"
          ],
          "name": "stdout"
        },
        {
          "output_type": "execute_result",
          "data": {
            "text/plain": [
              "array([[ 1.45200000e+03,  6.00000000e+02, -1.37870756e+00,\n",
              "         0.00000000e+00]])"
            ]
          },
          "metadata": {
            "tags": []
          },
          "execution_count": 25
        }
      ]
    },
    {
      "cell_type": "code",
      "metadata": {
        "id": "ov4NO5Qy8Lfz",
        "colab": {
          "base_uri": "https://localhost:8080/"
        },
        "outputId": "bf73fee2-4f55-429c-82de-03ef0eb3fa37"
      },
      "source": [
        "Xtrain, Ytrain = (np.array(Xtrain), np.array(Ytrain))\n",
        "print(Xtrain.shape)\n",
        "Xtrain = np.reshape(Xtrain, (Xtrain.shape[0], Xtrain.shape[1], Xtrain.shape[2]))\n",
        "\n",
        "Xtest, Ytest = (np.array(Xtest), np.array(Ytest))\n",
        "Xtest = np.reshape(Xtest, (Xtest.shape[0], Xtest.shape[1], Xtest.shape[2]))\n",
        "# Xtrain[0]"
      ],
      "execution_count": null,
      "outputs": [
        {
          "output_type": "stream",
          "text": [
            "(5082, 3, 4)\n"
          ],
          "name": "stdout"
        }
      ]
    },
    {
      "cell_type": "markdown",
      "metadata": {
        "id": "vplKsSqR9WdL"
      },
      "source": [
        "LSTM MODEL"
      ]
    },
    {
      "cell_type": "code",
      "metadata": {
        "id": "scqLjhVt9X8b"
      },
      "source": [
        "from keras.models import Sequential\n",
        "from keras.layers import LSTM, Dense"
      ],
      "execution_count": null,
      "outputs": []
    },
    {
      "cell_type": "code",
      "metadata": {
        "colab": {
          "base_uri": "https://localhost:8080/"
        },
        "id": "65xxjHo69jEa",
        "outputId": "0bdc1f28-7b03-42b8-fabc-b563c6328c45"
      },
      "source": [
        "model = Sequential()\n",
        "model.add(LSTM(128, return_sequences=True, input_shape= (Xtrain.shape[1], Xtrain.shape[2])))\n",
        "model.add(LSTM(64, return_sequences=False))\n",
        "model.add(Dense(25))\n",
        "model.add(Dense(1))\n",
        "\n",
        "model.compile(\n",
        "    loss='mean_squared_error',\n",
        "    optimizer='adam',\n",
        "    metrics=['accuracy']\n",
        ")\n",
        "\n",
        "model.fit(\n",
        "    Xtrain, Ytrain, epochs=100, batch_size=16, verbose=2\n",
        ")"
      ],
      "execution_count": null,
      "outputs": [
        {
          "output_type": "stream",
          "text": [
            "Epoch 1/100\n",
            "318/318 - 5s - loss: 0.0024 - accuracy: 1.9677e-04\n",
            "Epoch 2/100\n",
            "318/318 - 2s - loss: 3.4747e-04 - accuracy: 1.9677e-04\n",
            "Epoch 3/100\n",
            "318/318 - 2s - loss: 2.7745e-04 - accuracy: 1.9677e-04\n",
            "Epoch 4/100\n",
            "318/318 - 2s - loss: 2.9110e-04 - accuracy: 1.9677e-04\n",
            "Epoch 5/100\n",
            "318/318 - 2s - loss: 3.3220e-04 - accuracy: 1.9677e-04\n",
            "Epoch 6/100\n",
            "318/318 - 2s - loss: 3.4477e-04 - accuracy: 1.9677e-04\n",
            "Epoch 7/100\n",
            "318/318 - 2s - loss: 2.3497e-04 - accuracy: 1.9677e-04\n",
            "Epoch 8/100\n",
            "318/318 - 2s - loss: 3.1189e-04 - accuracy: 1.9677e-04\n",
            "Epoch 9/100\n",
            "318/318 - 2s - loss: 2.4587e-04 - accuracy: 1.9677e-04\n",
            "Epoch 10/100\n",
            "318/318 - 2s - loss: 2.8638e-04 - accuracy: 1.9677e-04\n",
            "Epoch 11/100\n",
            "318/318 - 2s - loss: 2.5507e-04 - accuracy: 1.9677e-04\n",
            "Epoch 12/100\n",
            "318/318 - 2s - loss: 2.2624e-04 - accuracy: 1.9677e-04\n",
            "Epoch 13/100\n",
            "318/318 - 2s - loss: 2.3288e-04 - accuracy: 1.9677e-04\n",
            "Epoch 14/100\n",
            "318/318 - 2s - loss: 1.9820e-04 - accuracy: 1.9677e-04\n",
            "Epoch 15/100\n",
            "318/318 - 2s - loss: 1.8017e-04 - accuracy: 1.9677e-04\n",
            "Epoch 16/100\n",
            "318/318 - 2s - loss: 2.0204e-04 - accuracy: 1.9677e-04\n",
            "Epoch 17/100\n",
            "318/318 - 2s - loss: 2.3107e-04 - accuracy: 1.9677e-04\n",
            "Epoch 18/100\n",
            "318/318 - 2s - loss: 2.0835e-04 - accuracy: 1.9677e-04\n",
            "Epoch 19/100\n",
            "318/318 - 2s - loss: 2.0226e-04 - accuracy: 1.9677e-04\n",
            "Epoch 20/100\n",
            "318/318 - 2s - loss: 2.1413e-04 - accuracy: 1.9677e-04\n",
            "Epoch 21/100\n",
            "318/318 - 2s - loss: 1.9282e-04 - accuracy: 1.9677e-04\n",
            "Epoch 22/100\n",
            "318/318 - 2s - loss: 1.8137e-04 - accuracy: 1.9677e-04\n",
            "Epoch 23/100\n",
            "318/318 - 2s - loss: 1.9578e-04 - accuracy: 1.9677e-04\n",
            "Epoch 24/100\n",
            "318/318 - 2s - loss: 1.8424e-04 - accuracy: 1.9677e-04\n",
            "Epoch 25/100\n",
            "318/318 - 2s - loss: 1.9071e-04 - accuracy: 1.9677e-04\n",
            "Epoch 26/100\n",
            "318/318 - 2s - loss: 1.7643e-04 - accuracy: 1.9677e-04\n",
            "Epoch 27/100\n",
            "318/318 - 2s - loss: 1.7428e-04 - accuracy: 1.9677e-04\n",
            "Epoch 28/100\n",
            "318/318 - 2s - loss: 1.7495e-04 - accuracy: 1.9677e-04\n",
            "Epoch 29/100\n",
            "318/318 - 2s - loss: 1.8141e-04 - accuracy: 1.9677e-04\n",
            "Epoch 30/100\n",
            "318/318 - 2s - loss: 2.0313e-04 - accuracy: 1.9677e-04\n",
            "Epoch 31/100\n",
            "318/318 - 2s - loss: 2.0483e-04 - accuracy: 1.9677e-04\n",
            "Epoch 32/100\n",
            "318/318 - 2s - loss: 1.7294e-04 - accuracy: 1.9677e-04\n",
            "Epoch 33/100\n",
            "318/318 - 2s - loss: 1.7774e-04 - accuracy: 1.9677e-04\n",
            "Epoch 34/100\n",
            "318/318 - 2s - loss: 1.7586e-04 - accuracy: 1.9677e-04\n",
            "Epoch 35/100\n",
            "318/318 - 2s - loss: 1.7391e-04 - accuracy: 1.9677e-04\n",
            "Epoch 36/100\n",
            "318/318 - 2s - loss: 1.8717e-04 - accuracy: 1.9677e-04\n",
            "Epoch 37/100\n",
            "318/318 - 2s - loss: 1.7425e-04 - accuracy: 1.9677e-04\n",
            "Epoch 38/100\n",
            "318/318 - 2s - loss: 1.8486e-04 - accuracy: 1.9677e-04\n",
            "Epoch 39/100\n",
            "318/318 - 2s - loss: 1.9444e-04 - accuracy: 1.9677e-04\n",
            "Epoch 40/100\n",
            "318/318 - 2s - loss: 1.7039e-04 - accuracy: 1.9677e-04\n",
            "Epoch 41/100\n",
            "318/318 - 2s - loss: 1.6625e-04 - accuracy: 1.9677e-04\n",
            "Epoch 42/100\n",
            "318/318 - 2s - loss: 1.7724e-04 - accuracy: 1.9677e-04\n",
            "Epoch 43/100\n",
            "318/318 - 2s - loss: 1.6976e-04 - accuracy: 1.9677e-04\n",
            "Epoch 44/100\n",
            "318/318 - 2s - loss: 1.5648e-04 - accuracy: 1.9677e-04\n",
            "Epoch 45/100\n",
            "318/318 - 2s - loss: 1.7469e-04 - accuracy: 1.9677e-04\n",
            "Epoch 46/100\n",
            "318/318 - 2s - loss: 1.9655e-04 - accuracy: 1.9677e-04\n",
            "Epoch 47/100\n",
            "318/318 - 2s - loss: 1.5745e-04 - accuracy: 1.9677e-04\n",
            "Epoch 48/100\n",
            "318/318 - 2s - loss: 1.7426e-04 - accuracy: 1.9677e-04\n",
            "Epoch 49/100\n",
            "318/318 - 2s - loss: 1.5620e-04 - accuracy: 1.9677e-04\n",
            "Epoch 50/100\n",
            "318/318 - 2s - loss: 1.5062e-04 - accuracy: 1.9677e-04\n",
            "Epoch 51/100\n",
            "318/318 - 2s - loss: 1.6732e-04 - accuracy: 1.9677e-04\n",
            "Epoch 52/100\n",
            "318/318 - 2s - loss: 1.5606e-04 - accuracy: 1.9677e-04\n",
            "Epoch 53/100\n",
            "318/318 - 2s - loss: 1.6324e-04 - accuracy: 1.9677e-04\n",
            "Epoch 54/100\n",
            "318/318 - 2s - loss: 1.6416e-04 - accuracy: 1.9677e-04\n",
            "Epoch 55/100\n",
            "318/318 - 2s - loss: 1.7926e-04 - accuracy: 1.9677e-04\n",
            "Epoch 56/100\n",
            "318/318 - 2s - loss: 1.4575e-04 - accuracy: 1.9677e-04\n",
            "Epoch 57/100\n",
            "318/318 - 2s - loss: 1.6450e-04 - accuracy: 1.9677e-04\n",
            "Epoch 58/100\n",
            "318/318 - 2s - loss: 1.5601e-04 - accuracy: 1.9677e-04\n",
            "Epoch 59/100\n",
            "318/318 - 2s - loss: 1.6060e-04 - accuracy: 1.9677e-04\n",
            "Epoch 60/100\n",
            "318/318 - 2s - loss: 1.5953e-04 - accuracy: 1.9677e-04\n",
            "Epoch 61/100\n",
            "318/318 - 2s - loss: 1.5260e-04 - accuracy: 1.9677e-04\n",
            "Epoch 62/100\n",
            "318/318 - 2s - loss: 1.6031e-04 - accuracy: 1.9677e-04\n",
            "Epoch 63/100\n",
            "318/318 - 2s - loss: 1.6699e-04 - accuracy: 1.9677e-04\n",
            "Epoch 64/100\n",
            "318/318 - 2s - loss: 1.5547e-04 - accuracy: 1.9677e-04\n",
            "Epoch 65/100\n",
            "318/318 - 2s - loss: 1.7774e-04 - accuracy: 1.9677e-04\n",
            "Epoch 66/100\n",
            "318/318 - 2s - loss: 1.5402e-04 - accuracy: 1.9677e-04\n",
            "Epoch 67/100\n",
            "318/318 - 2s - loss: 1.5206e-04 - accuracy: 1.9677e-04\n",
            "Epoch 68/100\n",
            "318/318 - 2s - loss: 1.5821e-04 - accuracy: 1.9677e-04\n",
            "Epoch 69/100\n",
            "318/318 - 2s - loss: 1.6441e-04 - accuracy: 1.9677e-04\n",
            "Epoch 70/100\n",
            "318/318 - 2s - loss: 1.4769e-04 - accuracy: 1.9677e-04\n",
            "Epoch 71/100\n",
            "318/318 - 2s - loss: 1.7867e-04 - accuracy: 1.9677e-04\n",
            "Epoch 72/100\n",
            "318/318 - 2s - loss: 1.5790e-04 - accuracy: 1.9677e-04\n",
            "Epoch 73/100\n",
            "318/318 - 2s - loss: 1.5700e-04 - accuracy: 1.9677e-04\n",
            "Epoch 74/100\n",
            "318/318 - 2s - loss: 1.4762e-04 - accuracy: 1.9677e-04\n",
            "Epoch 75/100\n",
            "318/318 - 2s - loss: 1.6885e-04 - accuracy: 1.9677e-04\n",
            "Epoch 76/100\n",
            "318/318 - 2s - loss: 1.6799e-04 - accuracy: 1.9677e-04\n",
            "Epoch 77/100\n",
            "318/318 - 2s - loss: 1.5007e-04 - accuracy: 1.9677e-04\n",
            "Epoch 78/100\n",
            "318/318 - 2s - loss: 1.5853e-04 - accuracy: 1.9677e-04\n",
            "Epoch 79/100\n",
            "318/318 - 2s - loss: 1.5127e-04 - accuracy: 1.9677e-04\n",
            "Epoch 80/100\n",
            "318/318 - 2s - loss: 1.6062e-04 - accuracy: 1.9677e-04\n",
            "Epoch 81/100\n",
            "318/318 - 2s - loss: 1.5674e-04 - accuracy: 1.9677e-04\n",
            "Epoch 82/100\n",
            "318/318 - 2s - loss: 1.5364e-04 - accuracy: 1.9677e-04\n",
            "Epoch 83/100\n",
            "318/318 - 2s - loss: 1.8087e-04 - accuracy: 1.9677e-04\n",
            "Epoch 84/100\n",
            "318/318 - 2s - loss: 1.5913e-04 - accuracy: 1.9677e-04\n",
            "Epoch 85/100\n",
            "318/318 - 2s - loss: 1.7798e-04 - accuracy: 1.9677e-04\n",
            "Epoch 86/100\n",
            "318/318 - 2s - loss: 1.5475e-04 - accuracy: 1.9677e-04\n",
            "Epoch 87/100\n",
            "318/318 - 2s - loss: 1.4604e-04 - accuracy: 1.9677e-04\n",
            "Epoch 88/100\n",
            "318/318 - 2s - loss: 1.4086e-04 - accuracy: 1.9677e-04\n",
            "Epoch 89/100\n",
            "318/318 - 2s - loss: 1.5430e-04 - accuracy: 1.9677e-04\n",
            "Epoch 90/100\n",
            "318/318 - 2s - loss: 1.6631e-04 - accuracy: 1.9677e-04\n",
            "Epoch 91/100\n",
            "318/318 - 2s - loss: 1.4323e-04 - accuracy: 1.9677e-04\n",
            "Epoch 92/100\n",
            "318/318 - 2s - loss: 1.4019e-04 - accuracy: 1.9677e-04\n",
            "Epoch 93/100\n",
            "318/318 - 2s - loss: 1.3922e-04 - accuracy: 1.9677e-04\n",
            "Epoch 94/100\n",
            "318/318 - 2s - loss: 1.6574e-04 - accuracy: 1.9677e-04\n",
            "Epoch 95/100\n",
            "318/318 - 2s - loss: 1.4623e-04 - accuracy: 1.9677e-04\n",
            "Epoch 96/100\n",
            "318/318 - 2s - loss: 1.5186e-04 - accuracy: 1.9677e-04\n",
            "Epoch 97/100\n",
            "318/318 - 2s - loss: 1.4655e-04 - accuracy: 1.9677e-04\n",
            "Epoch 98/100\n",
            "318/318 - 2s - loss: 1.4319e-04 - accuracy: 1.9677e-04\n",
            "Epoch 99/100\n",
            "318/318 - 2s - loss: 1.4740e-04 - accuracy: 1.9677e-04\n",
            "Epoch 100/100\n",
            "318/318 - 2s - loss: 1.4565e-04 - accuracy: 1.9677e-04\n"
          ],
          "name": "stdout"
        },
        {
          "output_type": "execute_result",
          "data": {
            "text/plain": [
              "<tensorflow.python.keras.callbacks.History at 0x7f516aa83750>"
            ]
          },
          "metadata": {
            "tags": []
          },
          "execution_count": 18
        }
      ]
    },
    {
      "cell_type": "code",
      "metadata": {
        "colab": {
          "base_uri": "https://localhost:8080/"
        },
        "id": "t-_yqsJ2-q6s",
        "outputId": "9d9270b8-25da-4c7f-ca57-b66e10a04dde"
      },
      "source": [
        "model.summary()"
      ],
      "execution_count": null,
      "outputs": [
        {
          "output_type": "stream",
          "text": [
            "Model: \"sequential\"\n",
            "_________________________________________________________________\n",
            "Layer (type)                 Output Shape              Param #   \n",
            "=================================================================\n",
            "lstm (LSTM)                  (None, 3, 128)            68096     \n",
            "_________________________________________________________________\n",
            "lstm_1 (LSTM)                (None, 64)                49408     \n",
            "_________________________________________________________________\n",
            "dense (Dense)                (None, 25)                1625      \n",
            "_________________________________________________________________\n",
            "dense_1 (Dense)              (None, 1)                 26        \n",
            "=================================================================\n",
            "Total params: 119,155\n",
            "Trainable params: 119,155\n",
            "Non-trainable params: 0\n",
            "_________________________________________________________________\n"
          ],
          "name": "stdout"
        }
      ]
    },
    {
      "cell_type": "code",
      "metadata": {
        "id": "4fuU4x88_CQ0"
      },
      "source": [
        "trainPred = model.predict(Xtrain)\n",
        "testPred = model.predict(Xtest)"
      ],
      "execution_count": null,
      "outputs": []
    },
    {
      "cell_type": "code",
      "metadata": {
        "id": "-OF55dxx_Ny1",
        "colab": {
          "base_uri": "https://localhost:8080/"
        },
        "outputId": "a1bd7d7a-e68e-4ee9-8aea-b91444301690"
      },
      "source": [
        "trainPred = np.c_[trainPred, np.zeros(trainPred.shape), np.zeros(trainPred.shape), np.zeros(trainPred.shape)]\n",
        "testPred = np.c_[testPred, np.zeros(testPred.shape), np.zeros(testPred.shape), np.zeros(testPred.shape)]\n",
        "print(trainPred.shape)"
      ],
      "execution_count": null,
      "outputs": [
        {
          "output_type": "stream",
          "text": [
            "(5082, 4)\n"
          ],
          "name": "stdout"
        }
      ]
    },
    {
      "cell_type": "code",
      "metadata": {
        "id": "K2ya7uGY_cLj"
      },
      "source": [
        "trainPred = scalar.inverse_transform(trainPred)\n",
        "trainPred = [x[0] for x in trainPred]\n",
        "\n",
        "testPred = scalar.inverse_transform(testPred)\n",
        "testPred = [x[0] for x in testPred]\n",
        "\n",
        "# print(trainPred)\n",
        "# print(testPred)"
      ],
      "execution_count": null,
      "outputs": []
    },
    {
      "cell_type": "code",
      "metadata": {
        "id": "sfXFENQo_9Lr"
      },
      "source": [
        "from sklearn.metrics import mean_squared_error"
      ],
      "execution_count": null,
      "outputs": []
    },
    {
      "cell_type": "code",
      "metadata": {
        "colab": {
          "base_uri": "https://localhost:8080/"
        },
        "id": "FrEBv3BUAYd1",
        "outputId": "e4e74e60-5f97-4290-c651-1ddc398c9157"
      },
      "source": [
        "trainScore = mean_squared_error([x[0][0] for x in Xtrain], trainPred, squared=False)\n",
        "print(\"Train Score: %.2f RMSE\" % (trainScore))\n",
        "\n",
        "testScore = mean_squared_error([x[0][0] for x in Xtest], testPred, squared=False)\n",
        "print(\"Train Score: %.2f RMSE\" % (testScore))"
      ],
      "execution_count": null,
      "outputs": [
        {
          "output_type": "stream",
          "text": [
            "Train Score: 3657.66 RMSE\n",
            "Train Score: 858.49 RMSE\n"
          ],
          "name": "stdout"
        }
      ]
    },
    {
      "cell_type": "code",
      "metadata": {
        "colab": {
          "base_uri": "https://localhost:8080/",
          "height": 971
        },
        "id": "zb2ILYcMBQFu",
        "outputId": "e050aa72-d4c4-4720-db26-bc3232441b62"
      },
      "source": [
        "# Plot the data\n",
        "data = bse.filter(['close'])\n",
        "train = data[:split]\n",
        "valid = data[split:]\n",
        "valid['predictions'] = testPred\n",
        "# Visualize the data\n",
        "plt.figure(figsize=(16,6))\n",
        "plt.title('Model')\n",
        "plt.xlabel('Date', fontsize=18)\n",
        "plt.ylabel('Close Price INR', fontsize=18)\n",
        "plt.plot(train['close'])\n",
        "plt.plot(valid[['close', 'predictions']])\n",
        "print(valid.tail(25))\n",
        "plt.legend(['Train', 'Val', 'Predictions'], loc='lower right')\n",
        "plt.show()"
      ],
      "execution_count": null,
      "outputs": [
        {
          "output_type": "stream",
          "text": [
            "/usr/local/lib/python3.7/dist-packages/ipykernel_launcher.py:5: SettingWithCopyWarning: \n",
            "A value is trying to be set on a copy of a slice from a DataFrame.\n",
            "Try using .loc[row_indexer,col_indexer] = value instead\n",
            "\n",
            "See the caveats in the documentation: https://pandas.pydata.org/pandas-docs/stable/user_guide/indexing.html#returning-a-view-versus-a-copy\n",
            "  \"\"\"\n"
          ],
          "name": "stderr"
        },
        {
          "output_type": "stream",
          "text": [
            "              close  predictions\n",
            "Date                            \n",
            "2021-03-31  1388.00  1264.956215\n",
            "2021-04-01  1391.60  1255.696001\n",
            "2021-04-05  1425.00  1274.507111\n",
            "2021-04-06  1426.00  1291.348313\n",
            "2021-04-07  1434.95  1308.015604\n",
            "2021-04-08  1451.70  1319.901734\n",
            "2021-04-09  1455.00  1343.186730\n",
            "2021-04-12  1477.55  1338.047232\n",
            "2021-04-13  1435.25  1274.593610\n",
            "2021-04-15  1366.40  1263.062898\n",
            "2021-04-16  1370.85  1126.780553\n",
            "2021-04-19  1379.70  1131.541838\n",
            "2021-04-20  1379.00  1210.729679\n",
            "2021-04-22  1364.80  1244.760876\n",
            "2021-04-23  1348.40  1241.922511\n",
            "2021-04-26  1351.30  1212.594122\n",
            "2021-04-27  1353.00  1221.962050\n",
            "2021-04-28  1359.50  1248.266068\n",
            "2021-04-29  1369.00  1250.598020\n",
            "2021-04-30  1373.90  1263.440930\n",
            "2021-05-03  1361.00  1241.025059\n",
            "2021-05-04  1354.95  1243.264677\n",
            "2021-05-05  1343.90  1242.553293\n",
            "2021-05-06  1364.70  1238.012359\n",
            "2021-05-07  1373.05  1265.126661\n"
          ],
          "name": "stdout"
        },
        {
          "output_type": "display_data",
          "data": {
            "image/png": "[encoded data removed]",
            "text/plain": [
              "<Figure size 1152x432 with 1 Axes>"
            ]
          },
          "metadata": {
            "tags": [],
            "needs_background": "light"
          }
        }
      ]
    }
  ]
}